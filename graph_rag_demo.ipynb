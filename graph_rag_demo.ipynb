{
 "cells": [
  {
   "cell_type": "code",
   "execution_count": 13,
   "metadata": {},
   "outputs": [
    {
     "name": "stdout",
     "output_type": "stream",
     "text": [
      "Note: you may need to restart the kernel to use updated packages.\n"
     ]
    }
   ],
   "source": [
    "# ! pip install -U langchain-community\n",
    "# ! pip install llama-index\n",
    "# %pip install --upgrade --quiet  langchain langchain-community langchain-openai neo4j\n"
   ]
  },
  {
   "cell_type": "code",
   "execution_count": 2,
   "metadata": {},
   "outputs": [],
   "source": [
    "import getpass\n",
    "import os\n",
    "\n",
    "if \"OPENAI_API_KEY\" not in os.environ:\n",
    "    os.environ[\"OPENAI_API_KEY\"] = getpass.getpass(\"Enter your OpenAI API key: \")\n"
   ]
  },
  {
   "cell_type": "markdown",
   "metadata": {},
   "source": [
    "## Load and preprocess text data"
   ]
  },
  {
   "cell_type": "code",
   "execution_count": 1,
   "metadata": {},
   "outputs": [],
   "source": [
    "from langchain.document_loaders import TextLoader\n",
    "from langchain.text_splitter import CharacterTextSplitter\n",
    "\n",
    "loader = TextLoader(\"file.txt\")\n",
    "\n",
    "# Load the document\n",
    "documents = loader.load()\n",
    "\n",
    "# Split the text into chunks\n",
    "text_splitter = CharacterTextSplitter(chunk_size=200, chunk_overlap=20)\n",
    "texts = text_splitter.split_documents(documents)"
   ]
  },
  {
   "cell_type": "markdown",
   "metadata": {},
   "source": [
    "## Extract Entitites and relationships"
   ]
  },
  {
   "cell_type": "code",
   "execution_count": 12,
   "metadata": {},
   "outputs": [
    {
     "data": {
      "text/plain": [
       "True"
      ]
     },
     "execution_count": 12,
     "metadata": {},
     "output_type": "execute_result"
    }
   ],
   "source": [
    "from dotenv import load_dotenv\n",
    "\n",
    "load_dotenv()"
   ]
  },
  {
   "cell_type": "code",
   "execution_count": 5,
   "metadata": {},
   "outputs": [
    {
     "name": "stderr",
     "output_type": "stream",
     "text": [
      "/var/folders/j8/srk4gzf14p160qz3lr94rck80000gn/T/ipykernel_90286/722670724.py:6: LangChainDeprecationWarning: The class `OpenAI` was deprecated in LangChain 0.0.10 and will be removed in 1.0. An updated version of the class exists in the :class:`~langchain-openai package and should be used instead. To use it run `pip install -U :class:`~langchain-openai` and import as `from :class:`~langchain_openai import OpenAI``.\n",
      "  llm = OpenAI(temperature=0)\n",
      "/var/folders/j8/srk4gzf14p160qz3lr94rck80000gn/T/ipykernel_90286/722670724.py:32: LangChainDeprecationWarning: The class `LLMChain` was deprecated in LangChain 0.1.17 and will be removed in 1.0. Use :meth:`~RunnableSequence, e.g., `prompt | llm`` instead.\n",
      "  entity_relation_chain = LLMChain(llm=llm, prompt=entity_relation_prompt)\n",
      "/var/folders/j8/srk4gzf14p160qz3lr94rck80000gn/T/ipykernel_90286/722670724.py:37: LangChainDeprecationWarning: The method `Chain.run` was deprecated in langchain 0.1.0 and will be removed in 1.0. Use :meth:`~invoke` instead.\n",
      "  result = entity_relation_chain.run(doc.page_content)\n"
     ]
    },
    {
     "name": "stdout",
     "output_type": "stream",
     "text": [
      "Chunk 1:\n",
      "\n",
      "Entities:\n",
      "1. Sarah\n",
      "2. Michael\n",
      "3. prismaticAI\n",
      "4. Westside Valley\n",
      "5. software engineer\n",
      "6. data scientist\n",
      "7. graduate studies\n",
      "8. technology company\n",
      "9. diverse workforce\n",
      "10. talented individuals\n",
      "11. innovative products and services\n",
      "12. clients\n",
      "\n",
      "Relationships:\n",
      "1. Sarah is an employee at prismaticAI.\n",
      "2. Michael is also an employee at prismaticAI.\n",
      "3. Sarah and Michael both work at prismaticAI.\n",
      "4. Sarah has been working at prismaticAI for the past three years.\n",
      "5. Michael joined prismaticAI two years ago.\n",
      "6. Michael completed his graduate studies before joining prismaticAI.\n",
      "7. prismaticAI is a leading technology company.\n",
      "8. prismaticAI is based in Westside Valley.\n",
      "9. prismaticAI specializes in developing cutting-edge software solutions and artificial intelligence applications.\n",
      "10. prismaticAI has a diverse workforce.\n",
      "11. Sarah and Michael are highly skilled professionals.\n",
      "12. Sarah and Michael contribute significantly to prismaticAI's success.\n",
      "13. Sarah and Michael work closely with their respective teams.\n",
      "14. The teams at prismaticAI develop innovative products and services.\n",
      "15. The products and services meet the evolving needs of prismaticAI\n",
      "\n",
      "--------------------------------------------------\n",
      "\n"
     ]
    }
   ],
   "source": [
    "from langchain.llms import OpenAI\n",
    "from langchain.chains import LLMChain\n",
    "from langchain.prompts import PromptTemplate\n",
    "\n",
    "# Initialize the language model\n",
    "llm = OpenAI(temperature=0)\n",
    "\n",
    "# Define the prompt template for entity and relationship extraction\n",
    "entity_relation_template = \"\"\"\n",
    "Extract the main entities and their relationships from the following text:\n",
    "\n",
    "{text}\n",
    "\n",
    "Entities:\n",
    "1.\n",
    "2.\n",
    "3.\n",
    "\n",
    "Relationships:\n",
    "1.\n",
    "2.\n",
    "3.\n",
    "\"\"\"\n",
    "\n",
    "# Create the prompt\n",
    "entity_relation_prompt = PromptTemplate(\n",
    "    input_variables=[\"text\"],\n",
    "    template=entity_relation_template\n",
    ")\n",
    "\n",
    "# Create the chain\n",
    "entity_relation_chain = LLMChain(llm=llm, prompt=entity_relation_prompt)\n",
    "\n",
    "# Extract entities and relationships for each text chunk\n",
    "entities_and_relations = []\n",
    "for doc in texts:\n",
    "    result = entity_relation_chain.run(doc.page_content)\n",
    "    entities_and_relations.append(result)\n",
    "\n",
    "# Print the results\n",
    "for i, result in enumerate(entities_and_relations):\n",
    "    print(f\"Chunk {i + 1}:\")\n",
    "    print(result)\n",
    "    print(\"\\n\" + \"-\"*50 + \"\\n\")\n"
   ]
  },
  {
   "cell_type": "markdown",
   "metadata": {},
   "source": [
    "# Store the knowledge graph in Neo4J"
   ]
  },
  {
   "cell_type": "code",
   "execution_count": null,
   "metadata": {},
   "outputs": [],
   "source": [
    "from neo4j import GraphDatabase\n",
    "import os\n",
    "\n",
    "# Neo4j connection details\n",
    "uri = \"bolt://localhost:7687\"  # Update with your Neo4j URI\n",
    "username = os.environ.get(\"USERNAME\")  # Set this environment variable for security\n",
    "password = os.environ.get(\"PASSWORD\")  # Set this environment variable for security\n",
    "\n",
    "# Initialize Neo4j driver\n",
    "driver = GraphDatabase.driver(uri, auth=(username, password))\n",
    "\n",
    "def create_entity(tx, entity):\n",
    "    query = (\n",
    "        \"MERGE (e:Entity {name: $name}) \"\n",
    "        \"ON CREATE SET e.type = $type \"\n",
    "        \"RETURN e\"\n",
    "    )\n",
    "    return tx.run(query, name=entity['name'], type=entity['type'])\n",
    "\n",
    "def create_relationship(tx, source, target, relationship):\n",
    "    query = (\n",
    "        \"MATCH (s:Entity {name: $source}), (t:Entity {name: $target}) \"\n",
    "        \"MERGE (s)-[r:RELATES_TO {type: $relationship}]->(t) \"\n",
    "        \"RETURN r\"\n",
    "    )\n",
    "    return tx.run(query, source=source, target=target, relationship=relationship)\n",
    "\n",
    "# Function to parse entities and relationships from the extracted text\n",
    "def parse_entities_and_relationships(text):\n",
    "    lines = text.strip().split('\\n')\n",
    "    entities = []\n",
    "    relationships = []\n",
    "    current_section = None\n",
    "\n",
    "    for line in lines:\n",
    "        if line.startswith('Entities:'):\n",
    "            current_section = 'entities'\n",
    "        elif line.startswith('Relationships:'):\n",
    "            current_section = 'relationships'\n",
    "        elif line.strip() and current_section == 'entities':\n",
    "            entities.append({'name': line.split('.', 1)[1].strip(), 'type': 'Unknown'})\n",
    "        elif line.strip() and current_section == 'relationships':\n",
    "            parts = line.split('.', 1)[1].strip().split(' - ')\n",
    "            if len(parts) == 3:\n",
    "                relationships.append({\n",
    "                    'source': parts[0].strip(),\n",
    "                    'target': parts[2].strip(),\n",
    "                    'type': parts[1].strip()\n",
    "                })\n",
    "\n",
    "    return entities, relationships\n",
    "\n",
    "# Store the knowledge graph in Neo4j\n",
    "with driver.session() as session:\n",
    "    for result in entities_and_relations:\n",
    "        entities, relationships = parse_entities_and_relationships(result)\n",
    "        \n",
    "        # Create entities\n",
    "        for entity in entities:\n",
    "            session.execute_write(create_entity, entity)\n",
    "        \n",
    "        # Create relationships\n",
    "        for rel in relationships:\n",
    "            session.execute_write(create_relationship, rel['source'], rel['target'], rel['type'])\n",
    "\n",
    "print(\"Knowledge graph has been stored in Neo4j.\")\n",
    "\n",
    "# Close the driver\n",
    "driver.close()\n"
   ]
  },
  {
   "cell_type": "markdown",
   "metadata": {},
   "source": [
    "## Retrieve knowledge for RAG"
   ]
  },
  {
   "cell_type": "code",
   "execution_count": 17,
   "metadata": {},
   "outputs": [
    {
     "name": "stdout",
     "output_type": "stream",
     "text": [
      "GraphCypherQAChain has been set up successfully.\n"
     ]
    }
   ],
   "source": [
    "from langchain.graphs import Neo4jGraph\n",
    "from langchain.chains import GraphCypherQAChain\n",
    "from langchain.llms import OpenAI\n",
    "username = os.environ.get(\"USERNAME\") \n",
    "\n",
    "# Initialize the Neo4jGraph\n",
    "graph = Neo4jGraph(\n",
    "    url=\"bolt://localhost:7687\",\n",
    "    username=username,\n",
    "    password=password # Using the password from the .env file\n",
    ")\n",
    "\n",
    "# Initialize OpenAI LLM\n",
    "llm = OpenAI(temperature=0)\n",
    "\n",
    "# Set up the GraphCypherQAChain\n",
    "qa_chain = GraphCypherQAChain.from_llm(\n",
    "    llm=llm,\n",
    "    graph=graph,\n",
    "    verbose=True,\n",
    "    allow_dangerous_requests=True  # Acknowledge the risks\n",
    "\n",
    ")\n",
    "\n",
    "print(\"GraphCypherQAChain has been set up successfully.\")\n"
   ]
  },
  {
   "cell_type": "markdown",
   "metadata": {},
   "source": [
    "# Generate responses"
   ]
  },
  {
   "cell_type": "code",
   "execution_count": 19,
   "metadata": {},
   "outputs": [
    {
     "name": "stdout",
     "output_type": "stream",
     "text": [
      "Question: Where does Sarah work?\n",
      "\n",
      "\n",
      "\u001b[1m> Entering new GraphCypherQAChain chain...\u001b[0m\n"
     ]
    },
    {
     "name": "stderr",
     "output_type": "stream",
     "text": [
      "Received notification from DBMS server: {severity: WARNING} {code: Neo.ClientNotification.Statement.UnknownRelationshipTypeWarning} {category: UNRECOGNIZED} {title: The provided relationship type is not in the database.} {description: One of the relationship types in your query is not available in the database, make sure you didn't misspell it or that the label is available when you run this statement in your application (the missing relationship type is: WORKS_AT)} {position: line: 3, column: 20, offset: 21} for query: \"\\n\\nMATCH (e:Entity)-[:WORKS_AT]->(c:Company)\\nWHERE e.name = 'Sarah'\\nRETURN c.name\"\n",
      "Received notification from DBMS server: {severity: WARNING} {code: Neo.ClientNotification.Statement.UnknownLabelWarning} {category: UNRECOGNIZED} {title: The provided label is not in the database.} {description: One of the labels in your query is not available in the database, make sure you didn't misspell it or that the label is available when you run this statement in your application (the missing label name is: Company)} {position: line: 3, column: 34, offset: 35} for query: \"\\n\\nMATCH (e:Entity)-[:WORKS_AT]->(c:Company)\\nWHERE e.name = 'Sarah'\\nRETURN c.name\"\n"
     ]
    },
    {
     "name": "stdout",
     "output_type": "stream",
     "text": [
      "Generated Cypher:\n",
      "\u001b[32;1m\u001b[1;3m\n",
      "\n",
      "MATCH (e:Entity)-[:WORKS_AT]->(c:Company)\n",
      "WHERE e.name = 'Sarah'\n",
      "RETURN c.name\u001b[0m\n",
      "Full Context:\n",
      "\u001b[32;1m\u001b[1;3m[]\u001b[0m\n",
      "\n",
      "\u001b[1m> Finished chain.\u001b[0m\n",
      "Response:  I don't know the answer.\n",
      "\n",
      "Question: Who works for prismaticAI?\n",
      "\n",
      "\n",
      "\u001b[1m> Entering new GraphCypherQAChain chain...\u001b[0m\n"
     ]
    },
    {
     "name": "stderr",
     "output_type": "stream",
     "text": [
      "Received notification from DBMS server: {severity: WARNING} {code: Neo.ClientNotification.Statement.UnknownRelationshipTypeWarning} {category: UNRECOGNIZED} {title: The provided relationship type is not in the database.} {description: One of the relationship types in your query is not available in the database, make sure you didn't misspell it or that the label is available when you run this statement in your application (the missing relationship type is: WORKS_FOR)} {position: line: 3, column: 20, offset: 21} for query: '\\n\\nMATCH (e:Entity)-[:WORKS_FOR]->(p:Entity {name: \"prismaticAI\"})\\nRETURN e.name'\n"
     ]
    },
    {
     "name": "stdout",
     "output_type": "stream",
     "text": [
      "Generated Cypher:\n",
      "\u001b[32;1m\u001b[1;3m\n",
      "\n",
      "MATCH (e:Entity)-[:WORKS_FOR]->(p:Entity {name: \"prismaticAI\"})\n",
      "RETURN e.name\u001b[0m\n",
      "Full Context:\n",
      "\u001b[32;1m\u001b[1;3m[]\u001b[0m\n",
      "\n",
      "\u001b[1m> Finished chain.\u001b[0m\n",
      "Response:  I don't know the answer.\n",
      "\n",
      "Question: Does Michael work for the same company as Sarah?\n",
      "\n",
      "\n",
      "\u001b[1m> Entering new GraphCypherQAChain chain...\u001b[0m\n"
     ]
    },
    {
     "name": "stderr",
     "output_type": "stream",
     "text": [
      "Received notification from DBMS server: {severity: WARNING} {code: Neo.ClientNotification.Statement.UnknownRelationshipTypeWarning} {category: UNRECOGNIZED} {title: The provided relationship type is not in the database.} {description: One of the relationship types in your query is not available in the database, make sure you didn't misspell it or that the label is available when you run this statement in your application (the missing relationship type is: WORKS_FOR)} {position: line: 3, column: 38, offset: 39} for query: \"\\n\\nMATCH (m:Entity {name: 'Michael'})-[:WORKS_FOR]->(c:Entity)<-[:WORKS_FOR]-(s:Entity {name: 'Sarah'})\\nRETURN m, c, s\"\n",
      "Received notification from DBMS server: {severity: WARNING} {code: Neo.ClientNotification.Statement.UnknownRelationshipTypeWarning} {category: UNRECOGNIZED} {title: The provided relationship type is not in the database.} {description: One of the relationship types in your query is not available in the database, make sure you didn't misspell it or that the label is available when you run this statement in your application (the missing relationship type is: WORKS_FOR)} {position: line: 3, column: 64, offset: 65} for query: \"\\n\\nMATCH (m:Entity {name: 'Michael'})-[:WORKS_FOR]->(c:Entity)<-[:WORKS_FOR]-(s:Entity {name: 'Sarah'})\\nRETURN m, c, s\"\n"
     ]
    },
    {
     "name": "stdout",
     "output_type": "stream",
     "text": [
      "Generated Cypher:\n",
      "\u001b[32;1m\u001b[1;3m\n",
      "\n",
      "MATCH (m:Entity {name: 'Michael'})-[:WORKS_FOR]->(c:Entity)<-[:WORKS_FOR]-(s:Entity {name: 'Sarah'})\n",
      "RETURN m, c, s\u001b[0m\n",
      "Full Context:\n",
      "\u001b[32;1m\u001b[1;3m[]\u001b[0m\n",
      "\n",
      "\u001b[1m> Finished chain.\u001b[0m\n",
      "Response:  I don't know the answer.\n",
      "\n"
     ]
    }
   ],
   "source": [
    "# Define a list of questions to ask\n",
    "questions = [\n",
    "    \"Where does Sarah work?\",\n",
    "    \"Who works for prismaticAI?\",\n",
    "    \"Does Michael work for the same company as Sarah?\"\n",
    "]\n",
    "\n",
    "# Generate responses for each question\n",
    "for question in questions:\n",
    "    print(f\"Question: {question}\")\n",
    "    response = qa_chain.run(question)\n",
    "    print(f\"Response: {response}\\n\")\n"
   ]
  }
 ],
 "metadata": {
  "kernelspec": {
   "display_name": "educative",
   "language": "python",
   "name": "python3"
  },
  "language_info": {
   "codemirror_mode": {
    "name": "ipython",
    "version": 3
   },
   "file_extension": ".py",
   "mimetype": "text/x-python",
   "name": "python",
   "nbconvert_exporter": "python",
   "pygments_lexer": "ipython3",
   "version": "3.9.20"
  }
 },
 "nbformat": 4,
 "nbformat_minor": 2
}
