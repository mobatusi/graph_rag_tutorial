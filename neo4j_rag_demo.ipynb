{
 "cells": [
  {
   "cell_type": "code",
   "execution_count": 1,
   "metadata": {},
   "outputs": [
    {
     "data": {
      "text/plain": [
       "True"
      ]
     },
     "execution_count": 1,
     "metadata": {},
     "output_type": "execute_result"
    }
   ],
   "source": [
    "from neo4j import GraphDatabase\n",
    "from dotenv import load_dotenv\n",
    "import os\n",
    "load_dotenv()"
   ]
  },
  {
   "cell_type": "code",
   "execution_count": 5,
   "metadata": {},
   "outputs": [],
   "source": [
    "# Neo4j connection details\n",
    "connection_uri = os.environ.get(\"URL\")\n",
    "username = os.environ.get(\"USERNAME\") \n",
    "password = os.environ.get(\"PASSWORD\")\n",
    "driver = GraphDatabase.driver(connection_uri, auth=(username, password))"
   ]
  },
  {
   "cell_type": "code",
   "execution_count": 7,
   "metadata": {},
   "outputs": [],
   "source": [
    "query = \"RETURN 'Hello, Neo4j!'\"\n",
    "with driver.session() as session:\n",
    "    result = session.run(query)\n",
    "driver.close()"
   ]
  },
  {
   "cell_type": "code",
   "execution_count": 8,
   "metadata": {},
   "outputs": [
    {
     "name": "stdout",
     "output_type": "stream",
     "text": [
      "Nodes and relationships are created successfully!\n"
     ]
    },
    {
     "name": "stderr",
     "output_type": "stream",
     "text": [
      "/var/folders/j8/srk4gzf14p160qz3lr94rck80000gn/T/ipykernel_78635/3242363143.py:1: DeprecationWarning: Using a driver after it has been closed is deprecated. Future versions of the driver will raise an error.\n",
      "  with driver.session() as session:\n"
     ]
    }
   ],
   "source": [
    "with driver.session() as session:\n",
    "  session.run(\"CREATE (EmperorShahJahan:Person {name: 'Shah Jahan', aged: '74'})\")\n",
    "  session.run(\"CREATE (TajMahal:Monument {name: 'Taj Mahal'})\")\n",
    "  session.run(\"MATCH (TajMahal:Monument {name: 'Taj Mahal'}), (EmperorShahJahan:Person {name: 'Shah Jahan'})\"\n",
    "              \"CREATE (TajMahal)-[:RELATION {name: 'BUILT_BY', year: '1643'}]->(EmperorShahJahan)\")\n",
    "driver.close()\n",
    "print(\"Nodes and relationships are created successfully!\")"
   ]
  },
  {
   "cell_type": "markdown",
   "metadata": {},
   "source": [
    "## retrieve and print all entities and relationships present in the Neo4j instance"
   ]
  },
  {
   "cell_type": "code",
   "execution_count": 10,
   "metadata": {},
   "outputs": [
    {
     "name": "stdout",
     "output_type": "stream",
     "text": [
      "Node name: Emil, from: Sweden, kloutScore: 99 -[KNOWS since: 2001] -> Node learn: surfing, name: Johan, from: Sweden\n",
      "Node name: Emil, from: Sweden, kloutScore: 99 -[KNOWS rating: 5] -> Node name: Ian, from: England, title: author\n",
      "Node learn: surfing, name: Johan, from: Sweden -[KNOWS ] -> Node name: Ian, from: England, title: author\n",
      "Node learn: surfing, name: Johan, from: Sweden -[KNOWS ] -> Node name: Rik, from: Belgium, pet: Orval\n",
      "Node name: Ian, from: England, title: author -[KNOWS ] -> Node learn: surfing, name: Johan, from: Sweden\n",
      "Node name: Ian, from: England, title: author -[KNOWS ] -> Node name: Allison, from: California, hobby: surfing\n",
      "Node name: Rik, from: Belgium, pet: Orval -[KNOWS ] -> Node name: Allison, from: California, hobby: surfing\n",
      "Node name: Taj Mahal -[RELATION year: 1643, name: BUILT_BY] -> Node name: Shah Jahan, aged: 74\n",
      "Node name: Taj Mahal -[RELATION year: 1643, name: BUILT_BY] -> Node name: Shah Jahan, aged: 74\n",
      "Node name: Taj Mahal -[RELATION year: 1643, name: BUILT_BY] -> Node name: Shah Jahan, aged: 74\n",
      "Node  -[RELATION year: 1643, name: BUILT_BY] -> Node \n",
      "Node name: Taj Mahal -[RELATION year: 1643, name: BUILT_BY] -> Node name: Shah Jahan, aged: 74\n",
      "Node name: Taj Mahal -[RELATION year: 1643, name: BUILT_BY] -> Node name: Shah Jahan, aged: 74\n"
     ]
    },
    {
     "name": "stderr",
     "output_type": "stream",
     "text": [
      "/var/folders/j8/srk4gzf14p160qz3lr94rck80000gn/T/ipykernel_78635/3348413896.py:1: DeprecationWarning: Using a driver after it has been closed is deprecated. Future versions of the driver will raise an error.\n",
      "  with driver.session() as session:\n"
     ]
    }
   ],
   "source": [
    "with driver.session() as session:\n",
    "  result = session.run(\"MATCH (n)-[r]->(m) RETURN n, r, m\")\n",
    "  for record in result:\n",
    "    n = record['n']\n",
    "    r = record['r']\n",
    "    m = record['m']\n",
    "    # Extracting properties for nodes and relationship\n",
    "    n_properties = ', '.join([f\"{key}: {value}\" for key, value in n.items()])\n",
    "    r_properties = ', '.join([f\"{key}: {value}\" for key, value in r.items()])\n",
    "    # Extracting relationship type\n",
    "    r_type = r.__class__.__name__  # Relationship type is the class name\n",
    "    # Extracting properties for the target node\n",
    "    m_properties = ', '.join([f\"{key}: {value}\" for key, value in m.items()])\n",
    "    # Formatting output\n",
    "    print(f\"{n.__class__.__name__} {n_properties} -[{r_type} {r_properties}] -> {n.__class__.__name__} {m_properties}\")\n",
    "driver.close()"
   ]
  },
  {
   "cell_type": "markdown",
   "metadata": {},
   "source": [
    "## Find a specific entity and its relations with other entities"
   ]
  },
  {
   "cell_type": "code",
   "execution_count": 11,
   "metadata": {},
   "outputs": [
    {
     "name": "stdout",
     "output_type": "stream",
     "text": [
      "Node name: Taj Mahal -[RELATION year: 1643, name: BUILT_BY] -> Node name: Shah Jahan, aged: 74\n",
      "Node name: Taj Mahal -[RELATION year: 1643, name: BUILT_BY] -> Node name: Shah Jahan, aged: 74\n",
      "Node name: Taj Mahal -[RELATION year: 1643, name: BUILT_BY] -> Node name: Shah Jahan, aged: 74\n",
      "Node name: Taj Mahal -[RELATION year: 1643, name: BUILT_BY] -> Node name: Shah Jahan, aged: 74\n",
      "Node name: Taj Mahal -[RELATION year: 1643, name: BUILT_BY] -> Node name: Shah Jahan, aged: 74\n"
     ]
    },
    {
     "name": "stderr",
     "output_type": "stream",
     "text": [
      "/var/folders/j8/srk4gzf14p160qz3lr94rck80000gn/T/ipykernel_78635/826860309.py:1: DeprecationWarning: Using a driver after it has been closed is deprecated. Future versions of the driver will raise an error.\n",
      "  with driver.session() as session:\n"
     ]
    }
   ],
   "source": [
    "with driver.session() as session:\n",
    "  result = session.run(\"MATCH (n {name: 'Taj Mahal'})-[r]->(m) RETURN n, r, m\")\n",
    "  for record in result:\n",
    "    n = record['n']\n",
    "    r = record['r']\n",
    "    m = record['m']\n",
    "    # Extracting properties for nodes and relationship\n",
    "    n_properties = ', '.join([f\"{key}: {value}\" for key, value in n.items()])\n",
    "    r_properties = ', '.join([f\"{key}: {value}\" for key, value in r.items()])\n",
    "    # Extracting relationship type\n",
    "    r_type = r.__class__.__name__  # Relationship type is the class name\n",
    "    # Extracting properties for the target node\n",
    "    m_properties = ', '.join([f\"{key}: {value}\" for key, value in m.items()])\n",
    "    # Formatting output\n",
    "    print(f\"{n.__class__.__name__} {n_properties} -[{r_type} {r_properties}] -> {n.__class__.__name__} {m_properties}\")\n",
    "driver.close()"
   ]
  },
  {
   "cell_type": "markdown",
   "metadata": {},
   "source": [
    "## Delete entities and relationships in Neo4j"
   ]
  },
  {
   "cell_type": "code",
   "execution_count": 12,
   "metadata": {},
   "outputs": [
    {
     "name": "stdout",
     "output_type": "stream",
     "text": [
      "All nodes and the asscociated relationships have been deleted successfully!\n"
     ]
    },
    {
     "name": "stderr",
     "output_type": "stream",
     "text": [
      "/var/folders/j8/srk4gzf14p160qz3lr94rck80000gn/T/ipykernel_78635/918676677.py:1: DeprecationWarning: Using a driver after it has been closed is deprecated. Future versions of the driver will raise an error.\n",
      "  with driver.session() as session:\n"
     ]
    }
   ],
   "source": [
    "with driver.session() as session:\n",
    "  result = session.run(\"MATCH (n) DETACH DELETE n\")\n",
    "driver.close()\n",
    "print(\"All nodes and the asscociated relationships have been deleted successfully!\")"
   ]
  }
 ],
 "metadata": {
  "kernelspec": {
   "display_name": "educative",
   "language": "python",
   "name": "python3"
  },
  "language_info": {
   "codemirror_mode": {
    "name": "ipython",
    "version": 3
   },
   "file_extension": ".py",
   "mimetype": "text/x-python",
   "name": "python",
   "nbconvert_exporter": "python",
   "pygments_lexer": "ipython3",
   "version": "3.9.20"
  }
 },
 "nbformat": 4,
 "nbformat_minor": 2
}
